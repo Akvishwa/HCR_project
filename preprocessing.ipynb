{
  "nbformat": 4,
  "nbformat_minor": 0,
  "metadata": {
    "kernelspec": {
      "display_name": "Python 3",
      "language": "python",
      "name": "python3"
    },
    "language_info": {
      "codemirror_mode": {
        "name": "ipython",
        "version": 3
      },
      "file_extension": ".py",
      "mimetype": "text/x-python",
      "name": "python",
      "nbconvert_exporter": "python",
      "pygments_lexer": "ipython3",
      "version": "3.6.3"
    },
    "colab": {
      "name": "input_pro.ipynb",
      "provenance": [],
      "collapsed_sections": []
    }
  },
  "cells": [
    {
      "cell_type": "markdown",
      "metadata": {
        "collapsed": true,
        "id": "VI499GwY-mDP"
      },
      "source": [
        "Loading the image"
      ]
    },
    {
      "cell_type": "code",
      "metadata": {
        "collapsed": true,
        "id": "E6DKr3pl-mDW"
      },
      "source": [
        "import matplotlib.pyplot as plt\n",
        "from PIL import ImageFilter,Image\n",
        "import numpy as np\n",
        "import cv2"
      ],
      "execution_count": null,
      "outputs": []
    },
    {
      "cell_type": "code",
      "metadata": {
        "collapsed": true,
        "id": "erbHZ4qP-mDb"
      },
      "source": [
        "\n",
        "im = Image.open('aee.png').convert('LA')\n",
        "width = float(im.size[0])\n",
        "height = float(im.size[1])"
      ],
      "execution_count": null,
      "outputs": []
    },
    {
      "cell_type": "code",
      "metadata": {
        "id": "Uy7L5ySX-mDc"
      },
      "source": [
        "plt.imshow(im)\n",
        "plt.title('Converted Image')\n",
        "\n",
        "plt.title('raw')\n",
        "plt.show()"
      ],
      "execution_count": null,
      "outputs": []
    },
    {
      "cell_type": "code",
      "metadata": {
        "id": "AYYskpRr-mDd",
        "outputId": "e1898cf9-2056-4859-f13a-25fe51390964"
      },
      "source": [
        "height"
      ],
      "execution_count": null,
      "outputs": [
        {
          "output_type": "execute_result",
          "data": {
            "text/plain": [
              "1296.0"
            ]
          },
          "metadata": {
            "tags": []
          },
          "execution_count": 55
        }
      ]
    },
    {
      "cell_type": "code",
      "metadata": {
        "id": "vcICQBxY-mDe",
        "outputId": "e4eb9f75-734f-4080-c511-412b57f45a50"
      },
      "source": [
        "width"
      ],
      "execution_count": null,
      "outputs": [
        {
          "output_type": "execute_result",
          "data": {
            "text/plain": [
              "2304.0"
            ]
          },
          "metadata": {
            "tags": []
          },
          "execution_count": 56
        }
      ]
    },
    {
      "cell_type": "code",
      "metadata": {
        "collapsed": true,
        "id": "s9uVyVym-mDf"
      },
      "source": [
        ""
      ],
      "execution_count": null,
      "outputs": []
    },
    {
      "cell_type": "markdown",
      "metadata": {
        "id": "Lw49Gq5n-mDf"
      },
      "source": [
        "Creating a new image with MNIST image resolution and placing the loaded image"
      ]
    },
    {
      "cell_type": "code",
      "metadata": {
        "collapsed": true,
        "scrolled": true,
        "id": "1iZatZz0-mDg"
      },
      "source": [
        "newImage = Image.new('L',(28,28),(255))"
      ],
      "execution_count": null,
      "outputs": []
    },
    {
      "cell_type": "code",
      "metadata": {
        "collapsed": true,
        "id": "3DWDCxQW-mDg"
      },
      "source": [
        "if width > height: #check which dimension is bigger\n",
        "        #Width is bigger. Width becomes 20 pixels.\n",
        "        nheight = int(round((28.0/width*height),0)) #resize height according to ratio width\n",
        "        if (nheight == 0): #rare case but minimum is 1 pixel\n",
        "            nheight = 1  \n",
        "        # resize and sharpen\n",
        "        img = im.resize((28,nheight), Image.ANTIALIAS).filter(ImageFilter.SHARPEN)\n",
        "        wtop = int(round(((28 - nheight)/2),0)) #caculate horizontal pozition\n",
        "        newImage.paste(img, (0,wtop)) #paste resized image on white canvas\n",
        "else:\n",
        "    #Height is bigger. Heigth becomes 20 pixels. \n",
        "    nwidth = int(round((28.0/height*width),0)) #resize width according to ratio height\n",
        "    if (nwidth == 0): #rare case but minimum is 1 pixel\n",
        "        nwidth = 1\n",
        "     # resize and sharpen\n",
        "    img = im.resize((nwidth,28), Image.ANTIALIAS).filter(ImageFilter.SHARPEN)\n",
        "    wleft = int(round(((28 - nwidth)/2),0)) #caculate vertical pozition\n",
        "    newImage.paste(img, (wleft,0)) #paste resize"
      ],
      "execution_count": null,
      "outputs": []
    },
    {
      "cell_type": "code",
      "metadata": {
        "id": "7nljXI1N-mDh"
      },
      "source": [
        "plt.imshow(newImage.convert('LA'))\n",
        "plt.title(\"Converted\")\n",
        "plt.show()"
      ],
      "execution_count": null,
      "outputs": []
    },
    {
      "cell_type": "markdown",
      "metadata": {
        "id": "mRWKWRpo-mDi"
      },
      "source": [
        "Normalizing image into pixel values"
      ]
    },
    {
      "cell_type": "code",
      "metadata": {
        "collapsed": true,
        "id": "hzl-a2IW-mDj"
      },
      "source": [
        "tv = list(newImage.getdata())\n",
        "tva = [ (255-x)*1.0/255.0 for x in tv]"
      ],
      "execution_count": null,
      "outputs": []
    },
    {
      "cell_type": "code",
      "metadata": {
        "id": "vYuQdjWp-mDj"
      },
      "source": [
        "tv"
      ],
      "execution_count": null,
      "outputs": []
    },
    {
      "cell_type": "code",
      "metadata": {
        "id": "K6o-Txv6-mDk"
      },
      "source": [
        "for i in range(len(tva)):\n",
        "    if tva[i]<=0.45:\n",
        "        tva[i]=0.0\n",
        "n_image = np.array(tva)\n",
        "rn_image = n_image.reshape(28,28)\n",
        "plt.imshow(rn_image)\n",
        "plt.show()"
      ],
      "execution_count": null,
      "outputs": []
    },
    {
      "cell_type": "code",
      "metadata": {
        "id": "bjnA_nD_-mDl"
      },
      "source": [
        "%store n_image"
      ],
      "execution_count": null,
      "outputs": []
    },
    {
      "cell_type": "code",
      "metadata": {
        "id": "dRmc3XZP-mDl"
      },
      "source": [
        "n_image"
      ],
      "execution_count": null,
      "outputs": []
    }
  ]
}